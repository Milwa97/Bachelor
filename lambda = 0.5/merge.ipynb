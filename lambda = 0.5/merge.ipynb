{
 "cells": [
  {
   "cell_type": "code",
   "execution_count": 1,
   "metadata": {},
   "outputs": [],
   "source": [
    "from base import *"
   ]
  },
  {
   "cell_type": "code",
   "execution_count": 2,
   "metadata": {},
   "outputs": [
    {
     "data": {
      "text/plain": [
       "0"
      ]
     },
     "execution_count": 2,
     "metadata": {},
     "output_type": "execute_result"
    }
   ],
   "source": [
    "os.system('rm n*.csv') "
   ]
  },
  {
   "cell_type": "code",
   "execution_count": 3,
   "metadata": {},
   "outputs": [],
   "source": [
    "names = [\"o1\", \"o2\", \"o3\", \"o4\", \"o21\", \"o22\", \"o40\"]\n",
    "save_file = \"n0c15X50l05\"\n",
    "merge(names, save_file)"
   ]
  },
  {
   "cell_type": "code",
   "execution_count": 4,
   "metadata": {},
   "outputs": [],
   "source": [
    "names = [\"o5\", \"o6\", \"o24\", \"o25\", \"o41\", \"o42\"]\n",
    "save_file = \"n9c15X50l05\"\n",
    "merge(names, save_file)"
   ]
  },
  {
   "cell_type": "code",
   "execution_count": 5,
   "metadata": {},
   "outputs": [],
   "source": [
    "names = [\"o7\", \"o8\", \"o9\", \"o27\", \"o28\"]\n",
    "save_file = \"n18c15X50l05\"\n",
    "merge(names, save_file)"
   ]
  },
  {
   "cell_type": "code",
   "execution_count": 6,
   "metadata": {},
   "outputs": [],
   "source": [
    "names = [\"o10\", \"o11\", \"o12\", \"o29\", \"o30\"]\n",
    "save_file = \"n45c15X50l05\"\n",
    "merge(names, save_file)"
   ]
  },
  {
   "cell_type": "code",
   "execution_count": 7,
   "metadata": {},
   "outputs": [],
   "source": [
    "names = [\"o13\", \"o31\", \"o32\"]\n",
    "save_file = \"n90c15X50l05\"\n",
    "merge(names, save_file)"
   ]
  }
 ],
 "metadata": {
  "kernelspec": {
   "display_name": "Python 3",
   "language": "python",
   "name": "python3"
  },
  "language_info": {
   "codemirror_mode": {
    "name": "ipython",
    "version": 3
   },
   "file_extension": ".py",
   "mimetype": "text/x-python",
   "name": "python",
   "nbconvert_exporter": "python",
   "pygments_lexer": "ipython3",
   "version": "3.7.3"
  }
 },
 "nbformat": 4,
 "nbformat_minor": 2
}
