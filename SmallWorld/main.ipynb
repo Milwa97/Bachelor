{
 "cells": [
  {
   "cell_type": "markdown",
   "metadata": {},
   "source": [
    "### author: Maria Izabela Lewandowska\n",
    "### date:     24.05.2019\n",
    "***\n",
    "#### Appendix to Balchelor Degree Thesis \n",
    "#### Jagiellonian University, Faculty of Physics, Astronomy and Applied Computer Science"
   ]
  },
  {
   "cell_type": "markdown",
   "metadata": {},
   "source": [
    "***\n",
    "## The Model System\n",
    "$$\\begin{align} \n",
    "    \\mathrm{X} + \\mathrm{Y} \\xrightarrow[\\text{  }]{\\text{ $k_1$ }} \\mathrm{ZX} & + \\mathrm{ZY}  \\xrightarrow[\\text{  }]{\\text{ $k_2$ }} \\mathrm{Y} +  \\mathrm{P} \\nonumber \\\\\n",
    "    \\mathrm{X} & \\xrightarrow[\\text{  }]{\\text{ $\\lambda$ }} \\mathrm{2X} \\nonumber \\\\\n",
    "    \\mathrm{N}  & \\xrightarrow[\\text{  }]{\\text{ $\\beta$ }} \\mathrm{X}  \\\\\n",
    "    \\label{eq: TMS_scheme}    \n",
    "\\end{align}$$"
   ]
  },
  {
   "cell_type": "code",
   "execution_count": 1,
   "metadata": {},
   "outputs": [],
   "source": [
    "from program import *"
   ]
  },
  {
   "cell_type": "code",
   "execution_count": 2,
   "metadata": {
    "scrolled": true
   },
   "outputs": [
    {
     "data": {
      "application/vnd.jupyter.widget-view+json": {
       "model_id": "d89ce3f1d30f4ce685fbf0a60951ebf8",
       "version_major": 2,
       "version_minor": 0
      },
      "text/plain": [
       "Tab(children=(HBox(children=(VBox(children=(BoundedIntText(value=20, description='init X', min=1), BoundedIntT…"
      ]
     },
     "metadata": {},
     "output_type": "display_data"
    }
   ],
   "source": [
    "display(GUI)"
   ]
  },
  {
   "cell_type": "code",
   "execution_count": 3,
   "metadata": {},
   "outputs": [],
   "source": [
    "#run_simulation()"
   ]
  },
  {
   "cell_type": "code",
   "execution_count": 4,
   "metadata": {},
   "outputs": [],
   "source": [
    "#single_network_diagnosis()"
   ]
  }
 ],
 "metadata": {
  "kernelspec": {
   "display_name": "Python 3",
   "language": "python",
   "name": "python3"
  },
  "language_info": {
   "codemirror_mode": {
    "name": "ipython",
    "version": 3
   },
   "file_extension": ".py",
   "mimetype": "text/x-python",
   "name": "python",
   "nbconvert_exporter": "python",
   "pygments_lexer": "ipython3",
   "version": "3.7.1"
  }
 },
 "nbformat": 4,
 "nbformat_minor": 2
}
