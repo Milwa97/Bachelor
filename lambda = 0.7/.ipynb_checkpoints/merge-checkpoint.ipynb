{
 "cells": [
  {
   "cell_type": "code",
   "execution_count": 1,
   "metadata": {},
   "outputs": [],
   "source": [
    "from base import *"
   ]
  },
  {
   "cell_type": "code",
   "execution_count": 2,
   "metadata": {},
   "outputs": [
    {
     "data": {
      "text/plain": [
       "0"
      ]
     },
     "execution_count": 2,
     "metadata": {},
     "output_type": "execute_result"
    }
   ],
   "source": [
    "os.system('rm n*.csv') "
   ]
  },
  {
   "cell_type": "code",
   "execution_count": 3,
   "metadata": {},
   "outputs": [],
   "source": [
    "names = [\"o71\", \"o70\", 'o10','o9', 'o8', 'o32', 'o33', 'o34', 'o35', \"o52\", \"o53\", \"o54\"]\n",
    "save_file = \"n0c15X50l07\"\n",
    "merge(names, save_file)"
   ]
  },
  {
   "cell_type": "code",
   "execution_count": 4,
   "metadata": {},
   "outputs": [],
   "source": [
    "names = [\"o6\", \"o7\", \"o28\", \"o29\", \"o30\", \"o31\"]\n",
    "save_file = \"n9c15X50l07\"\n",
    "merge(names, save_file)"
   ]
  },
  {
   "cell_type": "code",
   "execution_count": 5,
   "metadata": {},
   "outputs": [],
   "source": [
    "names = [\"o4\", \"o5\", \"o27\", \"o26\", \"o27\"]\n",
    "save_file = \"n18c15X50l07\"\n",
    "merge(names, save_file)"
   ]
  },
  {
   "cell_type": "code",
   "execution_count": 6,
   "metadata": {},
   "outputs": [],
   "source": [
    "names = [\"o3\", \"o23\", 'o24']\n",
    "save_file = \"n45c15X50l07\"\n",
    "merge(names, save_file)"
   ]
  },
  {
   "cell_type": "code",
   "execution_count": 7,
   "metadata": {},
   "outputs": [],
   "source": [
    "names = [\"o2\", 'o21', 'o22']\n",
    "save_file = \"n90c15X50l07\"\n",
    "merge(names, save_file)"
   ]
  }
 ],
 "metadata": {
  "kernelspec": {
   "display_name": "Python 3",
   "language": "python",
   "name": "python3"
  },
  "language_info": {
   "codemirror_mode": {
    "name": "ipython",
    "version": 3
   },
   "file_extension": ".py",
   "mimetype": "text/x-python",
   "name": "python",
   "nbconvert_exporter": "python",
   "pygments_lexer": "ipython3",
   "version": "3.7.3"
  }
 },
 "nbformat": 4,
 "nbformat_minor": 2
}
