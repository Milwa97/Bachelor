{
 "cells": [
  {
   "cell_type": "code",
   "execution_count": null,
   "metadata": {},
   "outputs": [],
   "source": [
    "from base import *"
   ]
  },
  {
   "cell_type": "code",
   "execution_count": null,
   "metadata": {},
   "outputs": [],
   "source": [
    "df_0 = read_cells(\"n0c15X50l07.csv\")\n",
    "df_0_X = read_cells(\"n0c15X50l07_X.csv\")\n",
    "df_0_Y = read_cells(\"n0c15X50l07_Y.csv\")\n",
    "df_0_ZX = read_cells(\"n0c15X50l07_ZX.csv\")\n",
    "df_0_ZY = read_cells(\"n0c15X50l07_ZY.csv\")\n",
    "df_0_P = read_cells(\"n0c15X50l07_P.csv\")"
   ]
  },
  {
   "cell_type": "code",
   "execution_count": null,
   "metadata": {},
   "outputs": [],
   "source": [
    "df_9 = read_cells(\"n9c15X50l07.csv\")\n",
    "df_9_X = read_cells(\"n9c15X50l07_X.csv\")\n",
    "df_9_Y = read_cells(\"n9c15X50l07_Y.csv\")\n",
    "df_9_ZX = read_cells(\"n9c15X50l07_ZX.csv\")\n",
    "df_9_ZY = read_cells(\"n9c15X50l07_ZY.csv\")\n",
    "df_9_P = read_cells(\"n9c15X50l07_P.csv\")"
   ]
  },
  {
   "cell_type": "code",
   "execution_count": null,
   "metadata": {},
   "outputs": [],
   "source": [
    "df_18 = read_cells(\"n18c15X50l07.csv\")\n",
    "df_18_X = read_cells(\"n18c15X50l07_X.csv\")\n",
    "df_18_Y = read_cells(\"n18c15X50l07_Y.csv\")\n",
    "df_18_ZX = read_cells(\"n18c15X50l07_ZX.csv\")\n",
    "df_18_ZY = read_cells(\"n18c15X50l07_ZY.csv\")\n",
    "df_18_P = read_cells(\"n18c15X50l07_P.csv\")"
   ]
  },
  {
   "cell_type": "code",
   "execution_count": null,
   "metadata": {},
   "outputs": [],
   "source": [
    "df_45 = read_cells(\"n45c15X50l07.csv\")\n",
    "df_45_X = read_cells(\"n45c15X50l07_X.csv\")\n",
    "df_45_Y = read_cells(\"n45c15X50l07_Y.csv\")\n",
    "df_45_ZX = read_cells(\"n45c15X50l07_ZX.csv\")\n",
    "df_45_ZY = read_cells(\"n45c15X50l07_ZY.csv\")\n",
    "df_45_P = read_cells(\"n45c15X50l07_P.csv\")"
   ]
  },
  {
   "cell_type": "code",
   "execution_count": null,
   "metadata": {},
   "outputs": [],
   "source": [
    "df_90 = read_cells(\"n90c15X50l07.csv\")\n",
    "df_90_X = read_cells(\"n90c15X50l07_X.csv\")\n",
    "df_90_Y = read_cells(\"n90c15X50l07_Y.csv\")\n",
    "df_90_ZX = read_cells(\"n90c15X50l07_ZX.csv\")\n",
    "df_90_ZY = read_cells(\"n90c15X50l07_ZY.csv\")\n",
    "df_90_P = read_cells(\"n90c15X50l07_P.csv\")"
   ]
  },
  {
   "cell_type": "code",
   "execution_count": null,
   "metadata": {},
   "outputs": [],
   "source": [
    "def get_details(df_X, df_Y, df_ZX, df_ZY, df_P, index = 1):\n",
    "    \n",
    "    tumor = df_X.iloc[index].dropna().astype(dtype = 'int32')\n",
    "    cytotoxic = df_Y.iloc[index].dropna().astype(dtype = 'int32')\n",
    "    complex_X = df_ZX.iloc[index].dropna().astype(dtype = 'int32')\n",
    "    complex_Y = df_ZY.iloc[index].dropna().astype(dtype = 'int32')\n",
    "    dead = df_P.iloc[index].dropna().astype(dtype = 'int32')\n",
    "    \n",
    "    all_cytotoxic = complex_Y + cytotoxic\n",
    "\n",
    "    time = np.arange(len(tumor))\n",
    "   \n",
    "    fig, axs = plt.subplots(nrows = 2, ncols = 2, sharex = False, figsize = (12,8))\n",
    "       \n",
    "    for row in axs:\n",
    "        for ax in row:               \n",
    "            ax.xaxis.label.set_size(12)\n",
    "            ax.set_xlabel('time', ha = 'right', va = 'top', fontsize = 16) \n",
    "            ax.set_ylabel('number of cells\\n',size = 16)           \n",
    "            ax.tick_params(grid_color='gray', grid_alpha=0.5, labelcolor = \"black\", labelsize = 15)      \n",
    "            ax.grid(True)\n",
    " \n",
    "        \n",
    "        axs[0][0].plot(time, tumor, color = 'red')\n",
    "        \n",
    "        axs[0][1].plot(time, cytotoxic, color = 'yellow')\n",
    "        axs[0][1].plot(time, complex_Y, color = 'purple')\n",
    "        axs[0][1].plot(time, all_cytotoxic, color = 'gray')\n",
    "        \n",
    "        axs[1][0].plot(time, complex_X, color = 'blue')\n",
    "        axs[1][1].plot(time, dead, color = 'black')\n",
    "      \n",
    "        axs[0][0].set_title('tumor (X)', fontsize = 16)\n",
    "        axs[0][1].set_title('cytotoxic cells (Y)', fontsize = 16)\n",
    "        axs[1][0].set_title('complex ', fontsize = 16)\n",
    "        axs[1][1].set_title('dead', fontsize = 16)\n",
    "\n",
    "    \n",
    "    fig.tight_layout()      \n",
    "    \n",
    "    return"
   ]
  },
  {
   "cell_type": "code",
   "execution_count": null,
   "metadata": {},
   "outputs": [],
   "source": [
    "def all_in_one(df_X, df_Y, df_ZX, df_ZY, df_P, index = 1):\n",
    "    \n",
    "    tumor = df_X.iloc[index].dropna().astype(dtype = 'int32')\n",
    "    cytotoxic = df_Y.iloc[index].dropna().astype(dtype = 'int32')\n",
    "    complex_X = df_ZX.iloc[index].dropna().astype(dtype = 'int32')\n",
    "    complex_Y = df_ZY.iloc[index].dropna().astype(dtype = 'int32')\n",
    "    dead = df_P.iloc[index].dropna().astype(dtype = 'int32')\n",
    "    \n",
    "    time = np.arange(len(tumor))\n",
    "   \n",
    "    fig, ax = plt.subplots(nrows = 1, ncols = 1, sharex = False, figsize = (12,8))\n",
    "        \n",
    "    ax.xaxis.label.set_size(12)\n",
    "    ax.set_xlabel('time', ha = 'right', va = 'top', fontsize = 16) \n",
    "    ax.set_ylabel('number of cells\\n',size = 16)           \n",
    "    ax.tick_params(grid_color='gray', grid_alpha=0.5, labelcolor = \"black\", labelsize = 15)      \n",
    "    ax.grid(True)\n",
    " \n",
    "        \n",
    "    ax.plot(time, tumor, color = 'red', label = 'tumor (X)')\n",
    "    ax.plot(time, cytotoxic, color = 'yellow', label = \"cytotoxic (Y)\")\n",
    "    ax.plot(time, complex_Y, color = 'purple', label = \"complex (Z)\")\n",
    "    ax.plot(time, dead, color = 'black', label = \"dead (P)\")\n",
    "      \n",
    "    ax.legend(loc='upper left', fontsize = 16)\n",
    "    \n",
    "    fig.tight_layout()      \n",
    "    \n",
    "    return"
   ]
  },
  {
   "cell_type": "code",
   "execution_count": null,
   "metadata": {},
   "outputs": [],
   "source": [
    "def all_in_one(df_X, df_Y, df_ZX, df_ZY, df_P, index = 1):\n",
    "    \n",
    "    tumor = df_X.iloc[index].dropna().astype(dtype = 'int32')\n",
    "    cytotoxic = df_Y.iloc[index].dropna().astype(dtype = 'int32')\n",
    "    complex_X = df_ZX.iloc[index].dropna().astype(dtype = 'int32')\n",
    "    complex_Y = df_ZY.iloc[index].dropna().astype(dtype = 'int32')\n",
    "    dead = df_P.iloc[index].dropna().astype(dtype = 'int32')\n",
    "    \n",
    "    time = np.arange(len(tumor))\n",
    "   \n",
    "    fig, ax = plt.subplots(nrows = 1, ncols = 1, sharex = False, figsize = (12,8))\n",
    "        \n",
    "    ax.xaxis.label.set_size(12)\n",
    "    ax.set_xlabel('time', ha = 'right', va = 'top', fontsize = 16) \n",
    "    ax.set_ylabel('number of cells\\n',size = 16)           \n",
    "    ax.tick_params(grid_color='gray', grid_alpha=0.5, labelcolor = \"black\", labelsize = 15)      \n",
    "    ax.grid(True)\n",
    " \n",
    "        \n",
    "    ax.plot(time, tumor, color = 'red', label = 'tumor (X)')\n",
    "    ax.plot(time, cytotoxic, color = 'yellow', label = \"cytotoxic (Y)\")\n",
    "    ax.plot(time, complex_Y, color = 'purple', label = \"complex (Z)\")\n",
    "    ax.plot(time, dead, color = 'black', label = \"dead (P)\")\n",
    "      \n",
    "    ax.legend(loc='upper left', fontsize = 16)\n",
    "    \n",
    "    fig.tight_layout()      \n",
    "    \n",
    "    return"
   ]
  },
  {
   "cell_type": "code",
   "execution_count": null,
   "metadata": {},
   "outputs": [],
   "source": [
    "get_details(df_0_X, df_0_Y, df_0_ZX, df_0_ZY, df_0_P, index = 1)"
   ]
  },
  {
   "cell_type": "code",
   "execution_count": null,
   "metadata": {},
   "outputs": [],
   "source": [
    "all_in_one(df_0_X, df_0_Y, df_0_ZX, df_0_ZY, df_0_P, index = 1)"
   ]
  },
  {
   "cell_type": "code",
   "execution_count": null,
   "metadata": {},
   "outputs": [],
   "source": [
    "get_details(df_9_X, df_9_Y, df_9_ZX, df_9_ZY, df_9_P, index = 1)"
   ]
  },
  {
   "cell_type": "code",
   "execution_count": null,
   "metadata": {},
   "outputs": [],
   "source": [
    "all_in_one(df_9_X, df_9_Y, df_9_ZX, df_9_ZY, df_9_P, index = 1)"
   ]
  },
  {
   "cell_type": "code",
   "execution_count": null,
   "metadata": {},
   "outputs": [],
   "source": [
    "get_details(df_18_X, df_18_Y, df_18_ZX, df_18_ZY, df_18_P, index = 1)"
   ]
  },
  {
   "cell_type": "code",
   "execution_count": null,
   "metadata": {},
   "outputs": [],
   "source": [
    "all_in_one(df_18_X, df_18_Y, df_18_ZX, df_18_ZY, df_18_P, index = 1)"
   ]
  },
  {
   "cell_type": "code",
   "execution_count": null,
   "metadata": {},
   "outputs": [],
   "source": [
    "get_details(df_45_X, df_45_Y, df_45_ZX, df_45_ZY, df_45_P, index = 1)"
   ]
  },
  {
   "cell_type": "code",
   "execution_count": null,
   "metadata": {},
   "outputs": [],
   "source": [
    "all_in_one(df_45_X, df_45_Y, df_45_ZX, df_45_ZY, df_45_P, index = 1)"
   ]
  },
  {
   "cell_type": "code",
   "execution_count": null,
   "metadata": {},
   "outputs": [],
   "source": [
    "get_details(df_90_X, df_90_Y, df_90_ZX, df_90_ZY, df_90_P, index = 1)"
   ]
  },
  {
   "cell_type": "code",
   "execution_count": null,
   "metadata": {},
   "outputs": [],
   "source": [
    "all_in_one(df_90_X, df_90_Y, df_90_ZX, df_90_ZY, df_90_P, index = 1)"
   ]
  },
  {
   "cell_type": "code",
   "execution_count": null,
   "metadata": {},
   "outputs": [],
   "source": []
  },
  {
   "cell_type": "code",
   "execution_count": null,
   "metadata": {},
   "outputs": [],
   "source": []
  },
  {
   "cell_type": "code",
   "execution_count": null,
   "metadata": {},
   "outputs": [],
   "source": []
  }
 ],
 "metadata": {
  "kernelspec": {
   "display_name": "Python 3",
   "language": "python",
   "name": "python3"
  },
  "language_info": {
   "codemirror_mode": {
    "name": "ipython",
    "version": 3
   },
   "file_extension": ".py",
   "mimetype": "text/x-python",
   "name": "python",
   "nbconvert_exporter": "python",
   "pygments_lexer": "ipython3",
   "version": "3.7.3"
  }
 },
 "nbformat": 4,
 "nbformat_minor": 2
}
