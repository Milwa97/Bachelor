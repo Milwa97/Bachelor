{
 "cells": [
  {
   "cell_type": "code",
   "execution_count": 1,
   "metadata": {},
   "outputs": [],
   "source": [
    "from base import *"
   ]
  },
  {
   "cell_type": "code",
   "execution_count": 2,
   "metadata": {},
   "outputs": [
    {
     "data": {
      "text/plain": [
       "0"
      ]
     },
     "execution_count": 2,
     "metadata": {},
     "output_type": "execute_result"
    }
   ],
   "source": [
    "os.system('rm n*.csv') "
   ]
  },
  {
   "cell_type": "code",
   "execution_count": 6,
   "metadata": {},
   "outputs": [
    {
     "name": "stdout",
     "output_type": "stream",
     "text": [
      "author:\tMlewandowska\n",
      "date:\t2019-10-02 16:18\t2019-10-03 13:07\n",
      "concentration = 0.15, size: 300x300\n",
      "distribution: Gauss\tscale: 1.0\n",
      "init_number_X = 50, init_number_Y = 13500, n_links = 0\n",
      "k1 = 1, k2 = 1, beta = 0, lambd = 0.7\n",
      "number of simulations k = 600, number of iterations n = 1000\n",
      "range sampling: [0, 5, 10, 20, 30, 40, 50, 60, 70, 80, 90, 100, 110, 120, 130, 140, 150]\n",
      "\n",
      "\n",
      "author:\tMlewandowska\n",
      "date:\t2019-09-30 17:11\t2019-09-30 20:47\n",
      "concentration = 0.15, size: 300x300\n",
      "distribution: Gauss\tscale: 1.0\n",
      "init_number_X = 50, init_number_Y = 13500, n_links = 0\n",
      "k1 = 1, k2 = 1, beta = 0, lambd = 0.7\n",
      "number of simulations k = 100, number of iterations n = 1000\n",
      "range sampling: [0, 5, 10, 20, 30, 40, 50, 60, 70, 80, 90, 100, 110, 120, 130, 140, 150]\n",
      "\n",
      "\n",
      "author:\tMlewandowska\n",
      "date:\t2019-09-30 17:11\t2019-09-30 20:44\n",
      "concentration = 0.15, size: 300x300\n",
      "distribution: Gauss\tscale: 1.0\n",
      "init_number_X = 50, init_number_Y = 13500, n_links = 0\n",
      "k1 = 1, k2 = 1, beta = 0, lambd = 0.7\n",
      "number of simulations k = 100, number of iterations n = 1000\n",
      "range sampling: [0, 5, 10, 20, 30, 40, 50, 60, 70, 80, 90, 100, 110, 120, 130, 140, 150]\n",
      "\n",
      "\n",
      "author:\tMlewandowska\n",
      "date:\t2019-09-30 09:08\t2019-09-30 13:16\n",
      "concentration = 0.15, size: 300x300\n",
      "distribution: Gauss\tscale: 1.0\n",
      "init_number_X = 50, init_number_Y = 13500, n_links = 0\n",
      "k1 = 1, k2 = 1, beta = 0, lambd = 0.7\n",
      "number of simulations k = 100, number of iterations n = 1000\n",
      "range sampling: [0, 5, 10, 20, 30, 40, 50, 60, 70, 80, 90, 100, 110, 120, 130, 140, 150]\n",
      "\n",
      "\n",
      "author:\tMlewandowska\n",
      "date:\t2019-09-30 09:08\t2019-09-30 13:07\n",
      "concentration = 0.15, size: 300x300\n",
      "distribution: Gauss\tscale: 1.0\n",
      "init_number_X = 50, init_number_Y = 13500, n_links = 0\n",
      "k1 = 1, k2 = 1, beta = 0, lambd = 0.7\n",
      "number of simulations k = 100, number of iterations n = 1000\n",
      "range sampling: [0, 5, 10, 20, 30, 40, 50, 60, 70, 80, 90, 100, 110, 120, 130, 140, 150]\n",
      "\n",
      "\n",
      "author:\tMlewandowska\n",
      "date:\t2019-09-30 09:08\t2019-09-30 13:15\n",
      "concentration = 0.15, size: 300x300\n",
      "distribution: Gauss\tscale: 1.0\n",
      "init_number_X = 50, init_number_Y = 13500, n_links = 0\n",
      "k1 = 1, k2 = 1, beta = 0, lambd = 0.7\n",
      "number of simulations k = 100, number of iterations n = 1000\n",
      "range sampling: [0, 5, 10, 20, 30, 40, 50, 60, 70, 80, 90, 100, 110, 120, 130, 140, 150]\n",
      "\n",
      "\n",
      "author:\tMlewandowska\n",
      "date:\t2019-10-02 08:25\t2019-10-02 11:56\n",
      "concentration = 0.15, size: 300x300\n",
      "distribution: Gauss\tscale: 1.0\n",
      "init_number_X = 50, init_number_Y = 13500, n_links = 0\n",
      "k1 = 1, k2 = 1, beta = 0, lambd = 0.7\n",
      "number of simulations k = 100, number of iterations n = 1000\n",
      "range sampling: [0, 5, 10, 20, 30, 40, 50, 60, 70, 80, 90, 100, 110, 120, 130, 140, 150]\n",
      "\n",
      "\n",
      "author:\tMlewandowska\n",
      "date:\t2019-10-02 08:25\t2019-10-02 11:58\n",
      "concentration = 0.15, size: 300x300\n",
      "distribution: Gauss\tscale: 1.0\n",
      "init_number_X = 50, init_number_Y = 13500, n_links = 0\n",
      "k1 = 1, k2 = 1, beta = 0, lambd = 0.7\n",
      "number of simulations k = 100, number of iterations n = 1000\n",
      "range sampling: [0, 5, 10, 20, 30, 40, 50, 60, 70, 80, 90, 100, 110, 120, 130, 140, 150]\n",
      "\n",
      "\n",
      "author:\tMlewandowska\n",
      "date:\t2019-10-02 08:25\t2019-10-02 11:56\n",
      "concentration = 0.15, size: 300x300\n",
      "distribution: Gauss\tscale: 1.0\n",
      "init_number_X = 50, init_number_Y = 13500, n_links = 0\n",
      "k1 = 1, k2 = 1, beta = 0, lambd = 0.7\n",
      "number of simulations k = 100, number of iterations n = 1000\n",
      "range sampling: [0, 5, 10, 20, 30, 40, 50, 60, 70, 80, 90, 100, 110, 120, 130, 140, 150]\n",
      "\n",
      "\n",
      "author:\tMlewandowska\n",
      "date:\t2019-10-02 08:25\t2019-10-02 11:48\n",
      "concentration = 0.15, size: 300x300\n",
      "distribution: Gauss\tscale: 1.0\n",
      "init_number_X = 50, init_number_Y = 13500, n_links = 0\n",
      "k1 = 1, k2 = 1, beta = 0, lambd = 0.7\n",
      "number of simulations k = 100, number of iterations n = 1000\n",
      "range sampling: [0, 5, 10, 20, 30, 40, 50, 60, 70, 80, 90, 100, 110, 120, 130, 140, 150]\n",
      "\n",
      "\n"
     ]
    }
   ],
   "source": [
    "names = ['o1', \"o71\", \"o70\", 'o10','o9', 'o8', 'o32', 'o33', 'o34', 'o35']\n",
    "save_file = \"n0c15X50l07\"\n",
    "merge(names, save_file)"
   ]
  },
  {
   "cell_type": "code",
   "execution_count": null,
   "metadata": {},
   "outputs": [],
   "source": []
  },
  {
   "cell_type": "code",
   "execution_count": 4,
   "metadata": {},
   "outputs": [
    {
     "ename": "NameError",
     "evalue": "name 'STOOP' is not defined",
     "output_type": "error",
     "traceback": [
      "\u001b[0;31m---------------------------------------------------------------------------\u001b[0m",
      "\u001b[0;31mNameError\u001b[0m                                 Traceback (most recent call last)",
      "\u001b[0;32m<ipython-input-4-ae7180e1f01e>\u001b[0m in \u001b[0;36m<module>\u001b[0;34m\u001b[0m\n\u001b[0;32m----> 1\u001b[0;31m \u001b[0mSTOOP\u001b[0m\u001b[0;34m\u001b[0m\u001b[0;34m\u001b[0m\u001b[0m\n\u001b[0m",
      "\u001b[0;31mNameError\u001b[0m: name 'STOOP' is not defined"
     ]
    }
   ],
   "source": [
    "STOOP"
   ]
  },
  {
   "cell_type": "code",
   "execution_count": null,
   "metadata": {},
   "outputs": [],
   "source": [
    "names = [\"o6\", \"o7\", \"o28\", \"o29\", \"o30\", \"o31\"]\n",
    "save_file = \"n9c15X50l07\"\n",
    "merge(names, save_file)"
   ]
  },
  {
   "cell_type": "code",
   "execution_count": null,
   "metadata": {},
   "outputs": [],
   "source": [
    "names = [\"o4\", \"o5\", \"o27\", \"o26\", \"o27\"]\n",
    "save_file = \"n18c15X50l07\"\n",
    "merge(names, save_file)"
   ]
  },
  {
   "cell_type": "code",
   "execution_count": null,
   "metadata": {},
   "outputs": [],
   "source": [
    "names = [\"o3\", \"o23\", 'o24']\n",
    "save_file = \"n45c15X50l07\"\n",
    "merge(names, save_file)"
   ]
  },
  {
   "cell_type": "code",
   "execution_count": null,
   "metadata": {},
   "outputs": [],
   "source": [
    "names = [\"o2\", 'o21', 'o22']\n",
    "save_file = \"n90c15X50l07\"\n",
    "merge(names, save_file)"
   ]
  }
 ],
 "metadata": {
  "kernelspec": {
   "display_name": "Python 3",
   "language": "python",
   "name": "python3"
  },
  "language_info": {
   "codemirror_mode": {
    "name": "ipython",
    "version": 3
   },
   "file_extension": ".py",
   "mimetype": "text/x-python",
   "name": "python",
   "nbconvert_exporter": "python",
   "pygments_lexer": "ipython3",
   "version": "3.7.3"
  }
 },
 "nbformat": 4,
 "nbformat_minor": 2
}
