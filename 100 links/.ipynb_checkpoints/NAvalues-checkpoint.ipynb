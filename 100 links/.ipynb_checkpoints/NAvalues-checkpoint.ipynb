{
 "cells": [
  {
   "cell_type": "code",
   "execution_count": 1,
   "metadata": {},
   "outputs": [],
   "source": [
    "import numpy as np\n",
    "import pandas as pd\n",
    "import matplotlib.pyplot as plt\n",
    "import seaborn as sns\n",
    "from scipy.stats import norm\n",
    "\n",
    "import warnings\n",
    "warnings.filterwarnings(\"ignore\")\n",
    "    \n",
    "sns.set(style=\"whitegrid\")\n",
    "\n",
    "m_range = [0,5,10,20,30,40,50,60,70,80,90,100]"
   ]
  },
  {
   "cell_type": "code",
   "execution_count": 2,
   "metadata": {},
   "outputs": [],
   "source": [
    "def read_data (filename, skip_rows = 9, limit = 200):\n",
    "\n",
    "    df = pd.read_csv( filename, skiprows = skip_rows, names= m_range)\n",
    "    df.drop( [0,5,60,70,80,90,100], axis = 1, inplace = True)\n",
    "    \n",
    "    while len(df[10]) > limit:\n",
    "        df.drop([ len(df[10])-1], axis = 0, inplace = True)\n",
    "    \n",
    "    if len(df[10]) < limit:\n",
    "        print(\"WARNING! Less than {0:} samples in file: {1:}\".format(limit, filename))\n",
    "    \n",
    "    return df    "
   ]
  },
  {
   "cell_type": "code",
   "execution_count": 3,
   "metadata": {},
   "outputs": [],
   "source": [
    "def get_NAN_statistic(filename):\n",
    "    \n",
    "    df = read_data(filename) \n",
    "    print(\"\\nFILE: {:}\\n\".format(filename) )\n",
    "    print(df.isnull().sum(axis = 0))\n",
    "    print(\"\\n\\n\")\n",
    "    \n",
    "    return   \n",
    "    "
   ]
  },
  {
   "cell_type": "markdown",
   "metadata": {},
   "source": [
    "# X = 50"
   ]
  },
  {
   "cell_type": "code",
   "execution_count": 4,
   "metadata": {},
   "outputs": [
    {
     "name": "stdout",
     "output_type": "stream",
     "text": [
      "\n",
      "FILE: n25c10X50l03.csv\n",
      "\n",
      "10    0\n",
      "20    0\n",
      "30    1\n",
      "40    1\n",
      "50    5\n",
      "dtype: int64\n",
      "\n",
      "\n",
      "\n",
      "\n",
      "FILE: n25c10X50l1.csv\n",
      "\n",
      "10    0\n",
      "20    0\n",
      "30    0\n",
      "40    0\n",
      "50    0\n",
      "dtype: int64\n",
      "\n",
      "\n",
      "\n",
      "\n",
      "FILE: n25c15X50l03.csv\n",
      "\n",
      "10     2\n",
      "20    21\n",
      "30    28\n",
      "40    34\n",
      "50    50\n",
      "dtype: int64\n",
      "\n",
      "\n",
      "\n",
      "\n",
      "FILE: n25c15X50l1.csv\n",
      "\n",
      "10    0\n",
      "20    0\n",
      "30    0\n",
      "40    0\n",
      "50    0\n",
      "dtype: int64\n",
      "\n",
      "\n",
      "\n",
      "\n",
      "FILE: n25c20X50l03.csv\n",
      "\n",
      "10     17\n",
      "20     71\n",
      "30     88\n",
      "40    108\n",
      "50    150\n",
      "dtype: int64\n",
      "\n",
      "\n",
      "\n",
      "\n",
      "FILE: n25c20X50l1.csv\n",
      "\n",
      "10    0\n",
      "20    1\n",
      "30    2\n",
      "40    4\n",
      "50    4\n",
      "dtype: int64\n",
      "\n",
      "\n",
      "\n"
     ]
    }
   ],
   "source": [
    "get_NAN_statistic('n100c10X50l03.csv')\n",
    "get_NAN_statistic('n100c10X50l1.csv')\n",
    "get_NAN_statistic('n100c15X50l03.csv')\n",
    "get_NAN_statistic('n100c15X50l1.csv')\n",
    "get_NAN_statistic('n100c20X50l03.csv')\n",
    "get_NAN_statistic('n100c20X50l1.csv')"
   ]
  },
  {
   "cell_type": "markdown",
   "metadata": {},
   "source": [
    "# X = 100"
   ]
  },
  {
   "cell_type": "code",
   "execution_count": 5,
   "metadata": {},
   "outputs": [
    {
     "name": "stdout",
     "output_type": "stream",
     "text": [
      "\n",
      "FILE: n25c10X100l03.csv\n",
      "\n",
      "10    0\n",
      "20    0\n",
      "30    0\n",
      "40    0\n",
      "50    0\n",
      "dtype: int64\n",
      "\n",
      "\n",
      "\n",
      "\n",
      "FILE: n25c10X100l1.csv\n",
      "\n",
      "10    0\n",
      "20    0\n",
      "30    0\n",
      "40    0\n",
      "50    0\n",
      "dtype: int64\n",
      "\n",
      "\n",
      "\n",
      "\n",
      "FILE: n25c15X100l1.csv\n",
      "\n",
      "10    0\n",
      "20    0\n",
      "30    0\n",
      "40    0\n",
      "50    0\n",
      "dtype: int64\n",
      "\n",
      "\n",
      "\n",
      "WARNING! Less than 200 samples in file: n25c20X100l03.csv\n",
      "\n",
      "FILE: n25c20X100l03.csv\n",
      "\n",
      "10     0\n",
      "20    21\n",
      "30    36\n",
      "40    49\n",
      "50    66\n",
      "dtype: int64\n",
      "\n",
      "\n",
      "\n"
     ]
    }
   ],
   "source": [
    "get_NAN_statistic('n100c10X100l03.csv')\n",
    "get_NAN_statistic('n100c10X100l1.csv')\n",
    "get_NAN_statistic('n100c15X100l03.csv')\n",
    "get_NAN_statistic('n100c15X100l1.csv')\n",
    "get_NAN_statistic('n100c20X100l03.csv')\n",
    "get_NAN_statistic('n100c20X100l1.csv')"
   ]
  },
  {
   "cell_type": "code",
   "execution_count": null,
   "metadata": {},
   "outputs": [],
   "source": []
  }
 ],
 "metadata": {
  "kernelspec": {
   "display_name": "Python 3",
   "language": "python",
   "name": "python3"
  },
  "language_info": {
   "codemirror_mode": {
    "name": "ipython",
    "version": 3
   },
   "file_extension": ".py",
   "mimetype": "text/x-python",
   "name": "python",
   "nbconvert_exporter": "python",
   "pygments_lexer": "ipython3",
   "version": "3.7.1"
  }
 },
 "nbformat": 4,
 "nbformat_minor": 2
}
