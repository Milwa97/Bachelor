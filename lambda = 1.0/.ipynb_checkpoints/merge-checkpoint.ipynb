{
 "cells": [
  {
   "cell_type": "code",
   "execution_count": 1,
   "metadata": {},
   "outputs": [],
   "source": [
    "from base import *"
   ]
  },
  {
   "cell_type": "code",
   "execution_count": 2,
   "metadata": {},
   "outputs": [
    {
     "data": {
      "text/plain": [
       "0"
      ]
     },
     "execution_count": 2,
     "metadata": {},
     "output_type": "execute_result"
    }
   ],
   "source": [
    "os.system('rm n*.csv') "
   ]
  },
  {
   "cell_type": "code",
   "execution_count": 3,
   "metadata": {},
   "outputs": [],
   "source": [
    "#names = [\"o1\", \"o99\", 'o11']\n",
    "#save_file = \"n0c15X50l1\"\n",
    "#merge(names, save_file)"
   ]
  },
  {
   "cell_type": "code",
   "execution_count": 4,
   "metadata": {},
   "outputs": [
    {
     "ename": "NameError",
     "evalue": "name 'STOP' is not defined",
     "output_type": "error",
     "traceback": [
      "\u001b[0;31m---------------------------------------------------------------------------\u001b[0m",
      "\u001b[0;31mNameError\u001b[0m                                 Traceback (most recent call last)",
      "\u001b[0;32m<ipython-input-4-ee4decdca3b8>\u001b[0m in \u001b[0;36m<module>\u001b[0;34m\u001b[0m\n\u001b[0;32m----> 1\u001b[0;31m \u001b[0mSTOP\u001b[0m\u001b[0;34m\u001b[0m\u001b[0;34m\u001b[0m\u001b[0m\n\u001b[0m",
      "\u001b[0;31mNameError\u001b[0m: name 'STOP' is not defined"
     ]
    }
   ],
   "source": [
    "STOP"
   ]
  },
  {
   "cell_type": "code",
   "execution_count": null,
   "metadata": {},
   "outputs": [],
   "source": []
  },
  {
   "cell_type": "code",
   "execution_count": 6,
   "metadata": {},
   "outputs": [
    {
     "name": "stdout",
     "output_type": "stream",
     "text": [
      "author:\tMlewandowska\n",
      "date:\t2019-10-05 16:57\t2019-10-06 02:22\n",
      "concentration = 0.15, size: 300x300\n",
      "distribution: Gauss\tscale: 1.0\n",
      "init_number_X = 50, init_number_Y = 13500, n_links = 18\n",
      "k1 = 1, k2 = 1, beta = 0, lambd = 1.0\n",
      "number of simulations k = 1100, number of iterations n = 1000\n",
      "range sampling: [0, 5, 10, 20, 30, 40, 50, 60, 70, 80, 90, 100, 110, 120, 130, 140, 150]\n",
      "\n",
      "\n"
     ]
    }
   ],
   "source": [
    "names = [\"o4\"]\n",
    "save_file = \"n18c15X50l1\"\n",
    "merge(names, save_file)"
   ]
  },
  {
   "cell_type": "code",
   "execution_count": 7,
   "metadata": {},
   "outputs": [
    {
     "name": "stdout",
     "output_type": "stream",
     "text": [
      "author:\tMlewandowska\n",
      "date:\t2019-10-05 16:57\t2019-10-05 22:45\n",
      "concentration = 0.15, size: 300x300\n",
      "distribution: Gauss\tscale: 1.0\n",
      "init_number_X = 50, init_number_Y = 13500, n_links = 45\n",
      "k1 = 1, k2 = 1, beta = 0, lambd = 1.0\n",
      "number of simulations k = 1100, number of iterations n = 1000\n",
      "range sampling: [0, 5, 10, 20, 30, 40, 50, 60, 70, 80, 90, 100, 110, 120, 130, 140, 150]\n",
      "\n",
      "\n"
     ]
    }
   ],
   "source": [
    "names = [\"o7\"]\n",
    "save_file = \"n45c15X50l1\"\n",
    "merge(names, save_file)"
   ]
  },
  {
   "cell_type": "code",
   "execution_count": 9,
   "metadata": {},
   "outputs": [
    {
     "name": "stdout",
     "output_type": "stream",
     "text": [
      "author:\tMlewandowska\n",
      "date:\t2019-10-04 08:06\t2019-10-04 10:10\n",
      "concentration = 0.15, size: 300x300\n",
      "distribution: Gauss\tscale: 1.0\n",
      "init_number_X = 50, init_number_Y = 13500, n_links = 90\n",
      "k1 = 1, k2 = 1, beta = 0, lambd = 1.0\n",
      "number of simulations k = 600, number of iterations n = 1000\n",
      "range sampling: [0, 5, 10, 20, 30, 40, 50, 60, 70, 80, 90, 100, 110, 120, 130, 140, 150]\n",
      "\n",
      "\n",
      "author:\tMlewandowska\n",
      "date:\t2019-10-05 16:57\t2019-10-05 19:02\n",
      "concentration = 0.15, size: 300x300\n",
      "distribution: Gauss\tscale: 1.0\n",
      "init_number_X = 50, init_number_Y = 13500, n_links = 90\n",
      "k1 = 1, k2 = 1, beta = 0, lambd = 1.0\n",
      "number of simulations k = 600, number of iterations n = 1000\n",
      "range sampling: [0, 5, 10, 20, 30, 40, 50, 60, 70, 80, 90, 100, 110, 120, 130, 140, 150]\n",
      "\n",
      "\n"
     ]
    }
   ],
   "source": [
    "names = [\"o13\", \"o91\"]\n",
    "save_file = \"n90c15X50l1\"\n",
    "merge(names, save_file)"
   ]
  },
  {
   "cell_type": "code",
   "execution_count": null,
   "metadata": {},
   "outputs": [],
   "source": []
  },
  {
   "cell_type": "code",
   "execution_count": null,
   "metadata": {},
   "outputs": [],
   "source": []
  }
 ],
 "metadata": {
  "kernelspec": {
   "display_name": "Python 3",
   "language": "python",
   "name": "python3"
  },
  "language_info": {
   "codemirror_mode": {
    "name": "ipython",
    "version": 3
   },
   "file_extension": ".py",
   "mimetype": "text/x-python",
   "name": "python",
   "nbconvert_exporter": "python",
   "pygments_lexer": "ipython3",
   "version": "3.7.3"
  }
 },
 "nbformat": 4,
 "nbformat_minor": 2
}
