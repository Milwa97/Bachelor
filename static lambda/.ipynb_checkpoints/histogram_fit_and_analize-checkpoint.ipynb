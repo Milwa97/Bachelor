{
 "cells": [
  {
   "cell_type": "code",
   "execution_count": 1,
   "metadata": {},
   "outputs": [],
   "source": [
    "from base import *"
   ]
  },
  {
   "cell_type": "code",
   "execution_count": 2,
   "metadata": {},
   "outputs": [],
   "source": [
    "df_0 = read_data(\"n0c15X50l07.csv\")\n",
    "df_9 = read_data(\"n9c15X50l07.csv\")\n"
   ]
  },
  {
   "cell_type": "code",
   "execution_count": 3,
   "metadata": {},
   "outputs": [],
   "source": [
    "def get_histogram(data, bar_width = 5):\n",
    "    \n",
    "    data = np.array(data)\n",
    "    max_value = np.max(data)\n",
    "    \n",
    "    n_bars = int(max_value / bar_width)+2\n",
    "    \n",
    "    hist_tab = np.zeros(n_bars, dtype = 'int')\n",
    "    hist_min = np.arange(-1, n_bars-1)*bar_width \n",
    "    hist_max = np.arange(n_bars)*bar_width-1\n",
    "       \n",
    "    for element in data:\n",
    "        \n",
    "        hist_tab[int(element / bar_width)] = hist_tab[int(element / bar_width)]+1\n",
    "        index = int(element / bar_width)+1\n",
    "        \n",
    "        #print(\"\\n\\n\", element, \"bar borders: \", hist_min[index], hist_max[index] )\n",
    "        #print( element / bar_width, \"bar = \", int(element / bar_width), \"\\nhist: = \", hist_tab )\n",
    "        \n",
    "    data = {\"min\": hist_min, \"max\": hist_max, \"value\": 0.5*(hist_min+hist_max), \"counter\": hist_tab}\n",
    "    df = pd.DataFrame(data)\n",
    "    df.drop([0], inplace = True)\n",
    "    \n",
    "    return df"
   ]
  },
  {
   "cell_type": "code",
   "execution_count": 4,
   "metadata": {},
   "outputs": [
    {
     "ename": "NameError",
     "evalue": "name 'df_1' is not defined",
     "output_type": "error",
     "traceback": [
      "\u001b[0;31m---------------------------------------------------------------------------\u001b[0m",
      "\u001b[0;31mNameError\u001b[0m                                 Traceback (most recent call last)",
      "\u001b[0;32m<ipython-input-4-70bd6236d80e>\u001b[0m in \u001b[0;36m<module>\u001b[0;34m\u001b[0m\n\u001b[1;32m     18\u001b[0m \u001b[0;34m\u001b[0m\u001b[0m\n\u001b[1;32m     19\u001b[0m \u001b[0;34m\u001b[0m\u001b[0m\n\u001b[0;32m---> 20\u001b[0;31m \u001b[0mplt\u001b[0m\u001b[0;34m.\u001b[0m\u001b[0mplot\u001b[0m\u001b[0;34m(\u001b[0m\u001b[0mdf_10\u001b[0m\u001b[0;34m[\u001b[0m\u001b[0;34m'value'\u001b[0m\u001b[0;34m]\u001b[0m\u001b[0;34m,\u001b[0m\u001b[0mdf_1\u001b[0m\u001b[0;34m[\u001b[0m\u001b[0;34m'counter'\u001b[0m\u001b[0;34m]\u001b[0m\u001b[0;34m,\u001b[0m \u001b[0mcolor\u001b[0m \u001b[0;34m=\u001b[0m \u001b[0;34m'red'\u001b[0m\u001b[0;34m)\u001b[0m\u001b[0;34m\u001b[0m\u001b[0;34m\u001b[0m\u001b[0m\n\u001b[0m\u001b[1;32m     21\u001b[0m \u001b[0mplt\u001b[0m\u001b[0;34m.\u001b[0m\u001b[0mplot\u001b[0m\u001b[0;34m(\u001b[0m\u001b[0mdf_20\u001b[0m\u001b[0;34m[\u001b[0m\u001b[0;34m'value'\u001b[0m\u001b[0;34m]\u001b[0m\u001b[0;34m,\u001b[0m\u001b[0mdf_2\u001b[0m\u001b[0;34m[\u001b[0m\u001b[0;34m'counter'\u001b[0m\u001b[0;34m]\u001b[0m\u001b[0;34m,\u001b[0m \u001b[0mcolor\u001b[0m \u001b[0;34m=\u001b[0m \u001b[0;34m'purple'\u001b[0m\u001b[0;34m)\u001b[0m\u001b[0;34m\u001b[0m\u001b[0;34m\u001b[0m\u001b[0m\n\u001b[1;32m     22\u001b[0m \u001b[0mplt\u001b[0m\u001b[0;34m.\u001b[0m\u001b[0mplot\u001b[0m\u001b[0;34m(\u001b[0m\u001b[0mdf_50\u001b[0m\u001b[0;34m[\u001b[0m\u001b[0;34m'value'\u001b[0m\u001b[0;34m]\u001b[0m\u001b[0;34m,\u001b[0m\u001b[0mdf_5\u001b[0m\u001b[0;34m[\u001b[0m\u001b[0;34m'counter'\u001b[0m\u001b[0;34m]\u001b[0m\u001b[0;34m,\u001b[0m \u001b[0mcolor\u001b[0m \u001b[0;34m=\u001b[0m \u001b[0;34m'blue'\u001b[0m\u001b[0;34m)\u001b[0m\u001b[0;34m\u001b[0m\u001b[0;34m\u001b[0m\u001b[0m\n",
      "\u001b[0;31mNameError\u001b[0m: name 'df_1' is not defined"
     ]
    }
   ],
   "source": [
    "df_10 = get_histogram( df_0[10], bar_width = 1)\n",
    "df_20 = get_histogram( df_0[20], bar_width = 1)\n",
    "df_30 = get_histogram( df_0[30], bar_width = 1)\n",
    "df_40 = get_histogram( df_0[40], bar_width = 1)\n",
    "df_50 = get_histogram( df_0[50], bar_width = 1)\n",
    "df_60 = get_histogram( df_0[60], bar_width = 1)\n",
    "\n",
    "df_70 = get_histogram( df_0[70], bar_width = 1)\n",
    "df_80 = get_histogram( df_0[80], bar_width = 1)\n",
    "df_90 = get_histogram( df_0[90], bar_width = 1)\n",
    "df_100 = get_histogram( df_0[100], bar_width = 1)\n",
    "df_110 = get_histogram( df_0[110], bar_width = 1)\n",
    "df_120 = get_histogram( df_0[120], bar_width = 1)\n",
    "\n",
    "df_130 = get_histogram( df_0[130], bar_width = 1)\n",
    "df_140 = get_histogram( df_0[140], bar_width = 1)\n",
    "\n",
    "\n",
    "\n",
    "plt.plot(df_10['value'],df_1['counter'], color = 'red')\n",
    "plt.plot(df_20['value'],df_2['counter'], color = 'purple')\n",
    "plt.plot(df_50['value'],df_5['counter'], color = 'blue')\n",
    "plt.plot(df_100['value'],df_10['counter'], color = 'green')"
   ]
  },
  {
   "cell_type": "code",
   "execution_count": null,
   "metadata": {},
   "outputs": [],
   "source": [
    "df_1.to_csv(\"histograms/n0l05range40width1.csv\", index = False, header = True)\n",
    "df_2.to_csv(\"histograms/n0l05range40width2.csv\", index = False, header = True)\n",
    "df_5.to_csv(\"histograms/n0l05range40width5.csv\", index = False, header = True)\n",
    "df_10.to_csv(\"histograms/n0l05range40width10.csv\", index = False, header = True)\n",
    "df_20.to_csv(\"histograms/n0l05range40width20.csv\", index = False, header = True)"
   ]
  },
  {
   "cell_type": "code",
   "execution_count": null,
   "metadata": {},
   "outputs": [],
   "source": []
  },
  {
   "cell_type": "code",
   "execution_count": null,
   "metadata": {},
   "outputs": [],
   "source": []
  },
  {
   "cell_type": "code",
   "execution_count": null,
   "metadata": {},
   "outputs": [],
   "source": []
  },
  {
   "cell_type": "code",
   "execution_count": null,
   "metadata": {},
   "outputs": [],
   "source": [
    "single_histogram(df_9, df_0, n='9', limit = [500,500,500,500,500], k = 40, start_value = 10)"
   ]
  },
  {
   "cell_type": "code",
   "execution_count": null,
   "metadata": {},
   "outputs": [],
   "source": []
  }
 ],
 "metadata": {
  "kernelspec": {
   "display_name": "Python 3",
   "language": "python",
   "name": "python3"
  },
  "language_info": {
   "codemirror_mode": {
    "name": "ipython",
    "version": 3
   },
   "file_extension": ".py",
   "mimetype": "text/x-python",
   "name": "python",
   "nbconvert_exporter": "python",
   "pygments_lexer": "ipython3",
   "version": "3.7.3"
  }
 },
 "nbformat": 4,
 "nbformat_minor": 2
}
